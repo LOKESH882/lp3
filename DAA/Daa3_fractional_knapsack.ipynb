{
 "cells": [
  {
   "cell_type": "code",
   "execution_count": 2,
   "id": "5c74c030-1590-40be-a2f2-f1950cc5cfee",
   "metadata": {},
   "outputs": [
    {
     "name": "stdin",
     "output_type": "stream",
     "text": [
      "Enter the number of items:  3\n",
      "Enter value of item 1:  20\n",
      "Enter weight of item 1:  40\n",
      "Enter value of item 2:  30\n",
      "Enter weight of item 2:  10\n",
      "Enter value of item 3:  70\n",
      "Enter weight of item 3:  80\n",
      "Enter the capacity of the knapsack:  60\n"
     ]
    },
    {
     "name": "stdout",
     "output_type": "stream",
     "text": [
      "Maximum value in Knapsack = 73.75\n"
     ]
    }
   ],
   "source": [
    "class Item:\n",
    "    def __init__(self, value, weight):\n",
    "        self.value = value\n",
    "        self.weight = weight\n",
    "        self.ratio = value / weight  \n",
    "\n",
    "def fractional_knapsack(items, capacity):\n",
    "    items.sort(key=lambda item: item.ratio, reverse=True)\n",
    "    \n",
    "    total_value = 0.0 \n",
    "    for item in items:\n",
    "        if capacity >= item.weight:\n",
    "            total_value += item.value\n",
    "            capacity -= item.weight\n",
    "        else:\n",
    "            fraction = capacity / item.weight\n",
    "            total_value += item.value * fraction\n",
    "            break  # Knapsack is full\n",
    "\n",
    "    return total_value\n",
    "\n",
    "if __name__ == \"__main__\":\n",
    "    n = int(input(\"Enter the number of items: \"))\n",
    "    \n",
    "    items = []\n",
    "    for i in range(n):\n",
    "        value = float(input(f\"Enter value of item {i+1}: \"))\n",
    "        weight = float(input(f\"Enter weight of item {i+1}: \"))\n",
    "        items.append(Item(value, weight))\n",
    "    \n",
    "    knapsack_capacity = float(input(\"Enter the capacity of the knapsack: \"))\n",
    "    \n",
    "    max_value = fractional_knapsack(items, knapsack_capacity)\n",
    "    print(f\"Maximum value in Knapsack = {max_value:.2f}\")\n"
   ]
  },
  {
   "cell_type": "code",
   "execution_count": null,
   "id": "9976da12-9b77-4730-841c-da9bdc84bab0",
   "metadata": {},
   "outputs": [],
   "source": []
  }
 ],
 "metadata": {
  "kernelspec": {
   "display_name": "Python 3 (ipykernel)",
   "language": "python",
   "name": "python3"
  },
  "language_info": {
   "codemirror_mode": {
    "name": "ipython",
    "version": 3
   },
   "file_extension": ".py",
   "mimetype": "text/x-python",
   "name": "python",
   "nbconvert_exporter": "python",
   "pygments_lexer": "ipython3",
   "version": "3.12.3"
  }
 },
 "nbformat": 4,
 "nbformat_minor": 5
}
