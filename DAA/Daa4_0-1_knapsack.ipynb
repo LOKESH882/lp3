{
 "cells": [
  {
   "cell_type": "code",
   "execution_count": 3,
   "id": "254a8c3a-312e-4ee6-933c-265b4a6d0d01",
   "metadata": {},
   "outputs": [
    {
     "name": "stdin",
     "output_type": "stream",
     "text": [
      "Enter the number of items:  2\n",
      "Enter weight of item 1:  40\n",
      "Enter value of item 1:  50\n",
      "Enter weight of item 2:  50\n",
      "Enter value of item 2:  60\n",
      "Enter the knapsack capacity:  30\n"
     ]
    },
    {
     "name": "stdout",
     "output_type": "stream",
     "text": [
      "Maximum value in the knapsack: 0\n"
     ]
    }
   ],
   "source": [
    "def knapsack(weights, values, capacity):\n",
    "    n = len(values)\n",
    "    dp = [[0 for _ in range(capacity + 1)] for _ in range(n + 1)]\n",
    "\n",
    "    for i in range(n + 1):\n",
    "        for w in range(capacity + 1):\n",
    "            if i == 0 or w == 0:\n",
    "                dp[i][w] = 0\n",
    "            elif weights[i-1] <= w:\n",
    "                dp[i][w] = max(values[i-1] + dp[i-1][w-weights[i-1]], dp[i-1][w])\n",
    "            else:\n",
    "                dp[i][w] = dp[i-1][w]\n",
    "\n",
    "    return dp[n][capacity]\n",
    "\n",
    "def main():\n",
    "    num_items = int(input(\"Enter the number of items: \"))\n",
    "    weights = []\n",
    "    values = []\n",
    "\n",
    "    for i in range(num_items):\n",
    "        weight = int(input(f\"Enter weight of item {i + 1}: \"))\n",
    "        value = int(input(f\"Enter value of item {i + 1}: \"))\n",
    "        weights.append(weight)\n",
    "        values.append(value)\n",
    "\n",
    "    capacity = int(input(\"Enter the knapsack capacity: \"))\n",
    "\n",
    "    max_value = knapsack(weights, values, capacity)\n",
    "\n",
    "    print(f\"Maximum value in the knapsack: {max_value}\")\n",
    "\n",
    "if __name__ == \"__main__\":\n",
    "    main()"
   ]
  },
  {
   "cell_type": "code",
   "execution_count": null,
   "id": "45e9c7a5-27c7-47e4-a2af-a5b0bbc44d5a",
   "metadata": {},
   "outputs": [],
   "source": []
  }
 ],
 "metadata": {
  "kernelspec": {
   "display_name": "Python 3 (ipykernel)",
   "language": "python",
   "name": "python3"
  },
  "language_info": {
   "codemirror_mode": {
    "name": "ipython",
    "version": 3
   },
   "file_extension": ".py",
   "mimetype": "text/x-python",
   "name": "python",
   "nbconvert_exporter": "python",
   "pygments_lexer": "ipython3",
   "version": "3.12.3"
  }
 },
 "nbformat": 4,
 "nbformat_minor": 5
}
